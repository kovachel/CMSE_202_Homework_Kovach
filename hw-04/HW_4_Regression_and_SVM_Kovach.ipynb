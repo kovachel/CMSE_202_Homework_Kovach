{
 "cells": [
  {
   "cell_type": "markdown",
   "metadata": {},
   "source": [
    "# Homework Assignment #4 (Individual)\n",
    "## Regression and SVM Predictive Models"
   ]
  },
  {
   "cell_type": "markdown",
   "metadata": {},
   "source": [
    "### <p style=\"text-align: right;\"> &#9989; Ella Kovach.</p>\n",
    "### <p style=\"text-align: right;\"> &#9989; kovachel.</p>"
   ]
  },
  {
   "cell_type": "markdown",
   "metadata": {},
   "source": [
    "### Goal for this homework assignment\n",
    "By now, you have learned a bit about predictive models. In this assignment, you will practice:\n",
    "\n",
    "* Building predictive models using `statsmodels` and `sklearn`\n",
    "* Evaluating your predictive models\n",
    "\n",
    "**This assignment is due roughly two weeks from now at 11:59 pm on Friday, April 21st.** It should be uploaded into the \"Homework Assignments\" submission folder for Homework #4.  Submission instructions can be found at the end of the notebook.\n"
   ]
  },
  {
   "cell_type": "markdown",
   "metadata": {},
   "source": [
    "---\n",
    "## Part 0: Add to your Git repository to track your progress on your assignment (4 points)\n",
    "\n",
    "For this assignment, you're going to add it to the `cmse202-s23-turnin` repository you created in class so that you can track your progress on the assignment and preserve the final version that you turn in. In order to do this you need to\n",
    "\n",
    "**&#9989; Do the following**:\n",
    "\n",
    "1. Navigate to your `cmse202-s23-turnin` repository and create a new directory called `hw-04`.\n",
    "2. Move this notebook into that **new directory** in your repository, then **add it and commit it to your repository**.\n",
    "1. Finally, to test that everything is working, \"git push\" the file so that it ends up in your GitHub repository.\n",
    "\n",
    "**Important**: Double check you've added your Professor and your TA as collaborators to your \"turnin\" repository (you should have done this in the previous homework assignment).\n",
    "\n",
    "**Also important**: Make sure that the version of this notebook that you are working on is the same one that you just added to your repository! If you are working on a different copy of the notebook, **none of your changes will be tracked**!\n",
    "\n",
    "If everything went as intended, the file should now show up on your GitHub account in the \"`cmse202-s23-turnin`\" repository inside the `hw-04` directory that you just created.  Periodically, **you'll be asked to commit your changes to the repository and push them to the remote GitHub location**. Of course, you can always commit your changes more often than that, if you wish.  It can be good to get into a habit of committing your changes any time you make a significant modification, or when you stop working on the project for a bit.\n",
    "\n",
    "&#9989; **Do this**: Before you move on, put the command that your instructor should run to clone your repository in the markdown cell below."
   ]
  },
  {
   "cell_type": "markdown",
   "metadata": {},
   "source": [
    "git clone https://github.com/kovachel/cmse202-s23-turnin-Kovach"
   ]
  },
  {
   "cell_type": "code",
   "execution_count": 58,
   "metadata": {},
   "outputs": [],
   "source": [
    "import matplotlib.pyplot as plt\n",
    "%matplotlib inline\n",
    "import numpy as np\n",
    "import pandas as pd\n",
    "from scipy.optimize import curve_fit\n",
    "from scipy.integrate import solve_ivp\n",
    "import seaborn as sns\n",
    "from PIL import Image \n",
    "import numpy as np\n",
    "from sklearn.datasets import fetch_lfw_people\n",
    "import matplotlib.pylab as plt\n",
    "from ipywidgets import interact\n",
    "from sklearn.model_selection import train_test_split\n",
    "from sklearn.model_selection import GridSearchCV\n",
    "from sklearn.metrics import classification_report\n",
    "from sklearn.metrics import confusion_matrix, ConfusionMatrixDisplay\n",
    "from sklearn.svm import SVC\n",
    "import pickle\n",
    "import time\n",
    "from sklearn.decomposition import PCA\n",
    "import pandas as pd\n",
    "import matplotlib.pyplot as plt\n",
    "import numpy as np\n",
    "from sklearn.model_selection import train_test_split\n",
    "import statsmodels.api as sm\n",
    "from sklearn import metrics\n",
    "from sklearn.linear_model import LogisticRegression"
   ]
  },
  {
   "cell_type": "markdown",
   "metadata": {},
   "source": [
    "# Building a Model to Predict if it Will Rain Tomorrow\n",
    "\n",
    "In this dataset we have weather data for a number of Australian cities. We’re going to **build a model that uses data from today to predict if it will rain tomorrow.** To simplify our model, let’s just look at the weather for one city.\n",
    "\n",
    "## Part 1. Working with the Data\n",
    "\n",
    "The dataset that we’ll be using can be found here:\n",
    "- `https://raw.githubusercontent.com/msu-cmse-courses/cmse202-S23-data/main/HW/HW4/aussie_weather_data.csv`\n",
    "\n",
    "#### 1.1 (3 Points)\n",
    "**Download the data set and read it in using Pandas.**"
   ]
  },
  {
   "cell_type": "code",
   "execution_count": 59,
   "metadata": {},
   "outputs": [],
   "source": [
    "#Write your code here\n",
    "data = pd.read_csv(\"aussie_weather_data.csv\", delimiter=',', skiprows=0, encoding='utf-8')"
   ]
  },
  {
   "cell_type": "markdown",
   "metadata": {},
   "source": [
    "#### 1.2 (3 Points)\n",
    "This dataset has weather information for multiple cities in Australia. It’s quite a large dataset. In fact, it’s a little *too* large for our purposes; it will take a considerable amount of time to train a model on so much data. So we’ll just work with the data for a specific city.\n",
    "\n",
    "The first thing we’ll do is see which cities we have data for. \n",
    "**Print out a list of the specific cities in this dataset.** (Note that this is not the same as printing the entire `Location` column.)"
   ]
  },
  {
   "cell_type": "code",
   "execution_count": 60,
   "metadata": {},
   "outputs": [
    {
     "name": "stdout",
     "output_type": "stream",
     "text": [
      "['NorfolkIsland' 'SydneyAirport' 'WaggaWagga' 'MelbourneAirport' 'Mildura'\n",
      " 'Watsonia' 'Brisbane' 'Cairns' 'Townsville' 'MountGambier' 'Nuriootpa'\n",
      " 'PerthAirport' 'Perth' 'AliceSprings' 'Darwin']\n"
     ]
    }
   ],
   "source": [
    "#Write your code here\n",
    "cities = data[\"Location\"].unique()\n",
    "print(cities)"
   ]
  },
  {
   "cell_type": "markdown",
   "metadata": {},
   "source": [
    "#### 1.3 (3 Points)\n",
    "Select one of the cities (and **please** don't just pick the first one!). Cut down your dataframe so that it only contains data from your chosen city. You should also **look through the columns in this dataset and ensure that all of the data is ready for our analysis/model creation.**"
   ]
  },
  {
   "cell_type": "code",
   "execution_count": 61,
   "metadata": {},
   "outputs": [],
   "source": [
    "#Write your code here\n",
    "Darwin = data[\"Location\"]==\"Darwin\"\n",
    "darwins = data[Darwin]\n",
    "darwin = darwins.drop([\"Location\"], axis =1)"
   ]
  },
  {
   "cell_type": "markdown",
   "metadata": {},
   "source": [
    "#### 1.4 (3 Points)\n",
    "Finally, before we start creating our models, let's first split our data into training and testing datasets. **Keep in mind what we want our model to predict and how this dataset gives you the information you need for your model.**"
   ]
  },
  {
   "cell_type": "code",
   "execution_count": 147,
   "metadata": {},
   "outputs": [
    {
     "data": {
      "text/html": [
       "<div>\n",
       "<style scoped>\n",
       "    .dataframe tbody tr th:only-of-type {\n",
       "        vertical-align: middle;\n",
       "    }\n",
       "\n",
       "    .dataframe tbody tr th {\n",
       "        vertical-align: top;\n",
       "    }\n",
       "\n",
       "    .dataframe thead th {\n",
       "        text-align: right;\n",
       "    }\n",
       "</style>\n",
       "<table border=\"1\" class=\"dataframe\">\n",
       "  <thead>\n",
       "    <tr style=\"text-align: right;\">\n",
       "      <th></th>\n",
       "      <th>Year</th>\n",
       "      <th>Month</th>\n",
       "      <th>DayOfMonth</th>\n",
       "      <th>MinTemp</th>\n",
       "      <th>MaxTemp</th>\n",
       "      <th>Rainfall</th>\n",
       "      <th>Evaporation</th>\n",
       "      <th>Sunshine</th>\n",
       "      <th>WindGustDir</th>\n",
       "      <th>WindGustSpeed</th>\n",
       "      <th>...</th>\n",
       "      <th>Humidity9am</th>\n",
       "      <th>Humidity3pm</th>\n",
       "      <th>Pressure9am</th>\n",
       "      <th>Pressure3pm</th>\n",
       "      <th>Cloud9am</th>\n",
       "      <th>Cloud3pm</th>\n",
       "      <th>Temp9am</th>\n",
       "      <th>Temp3pm</th>\n",
       "      <th>RainToday</th>\n",
       "      <th>RainTomorrow</th>\n",
       "    </tr>\n",
       "  </thead>\n",
       "  <tbody>\n",
       "    <tr>\n",
       "      <th>36453</th>\n",
       "      <td>2008</td>\n",
       "      <td>7</td>\n",
       "      <td>1</td>\n",
       "      <td>20.0</td>\n",
       "      <td>33.1</td>\n",
       "      <td>0.0</td>\n",
       "      <td>4.4</td>\n",
       "      <td>11.0</td>\n",
       "      <td>0.0</td>\n",
       "      <td>41.0</td>\n",
       "      <td>...</td>\n",
       "      <td>81.0</td>\n",
       "      <td>32.0</td>\n",
       "      <td>1016.0</td>\n",
       "      <td>1012.1</td>\n",
       "      <td>1.0</td>\n",
       "      <td>2.0</td>\n",
       "      <td>25.4</td>\n",
       "      <td>32.3</td>\n",
       "      <td>0</td>\n",
       "      <td>0</td>\n",
       "    </tr>\n",
       "    <tr>\n",
       "      <th>36454</th>\n",
       "      <td>2008</td>\n",
       "      <td>7</td>\n",
       "      <td>2</td>\n",
       "      <td>19.4</td>\n",
       "      <td>32.4</td>\n",
       "      <td>0.0</td>\n",
       "      <td>6.0</td>\n",
       "      <td>10.4</td>\n",
       "      <td>22.5</td>\n",
       "      <td>50.0</td>\n",
       "      <td>...</td>\n",
       "      <td>81.0</td>\n",
       "      <td>17.0</td>\n",
       "      <td>1016.8</td>\n",
       "      <td>1012.4</td>\n",
       "      <td>1.0</td>\n",
       "      <td>1.0</td>\n",
       "      <td>24.3</td>\n",
       "      <td>31.9</td>\n",
       "      <td>0</td>\n",
       "      <td>0</td>\n",
       "    </tr>\n",
       "    <tr>\n",
       "      <th>36455</th>\n",
       "      <td>2008</td>\n",
       "      <td>7</td>\n",
       "      <td>3</td>\n",
       "      <td>18.2</td>\n",
       "      <td>31.8</td>\n",
       "      <td>0.0</td>\n",
       "      <td>8.0</td>\n",
       "      <td>11.0</td>\n",
       "      <td>0.0</td>\n",
       "      <td>46.0</td>\n",
       "      <td>...</td>\n",
       "      <td>38.0</td>\n",
       "      <td>24.0</td>\n",
       "      <td>1017.2</td>\n",
       "      <td>1013.0</td>\n",
       "      <td>0.0</td>\n",
       "      <td>1.0</td>\n",
       "      <td>24.3</td>\n",
       "      <td>31.2</td>\n",
       "      <td>0</td>\n",
       "      <td>0</td>\n",
       "    </tr>\n",
       "    <tr>\n",
       "      <th>36456</th>\n",
       "      <td>2008</td>\n",
       "      <td>7</td>\n",
       "      <td>4</td>\n",
       "      <td>17.3</td>\n",
       "      <td>30.7</td>\n",
       "      <td>0.0</td>\n",
       "      <td>7.0</td>\n",
       "      <td>10.4</td>\n",
       "      <td>0.0</td>\n",
       "      <td>44.0</td>\n",
       "      <td>...</td>\n",
       "      <td>55.0</td>\n",
       "      <td>16.0</td>\n",
       "      <td>1017.3</td>\n",
       "      <td>1013.6</td>\n",
       "      <td>2.0</td>\n",
       "      <td>6.0</td>\n",
       "      <td>21.3</td>\n",
       "      <td>29.8</td>\n",
       "      <td>0</td>\n",
       "      <td>0</td>\n",
       "    </tr>\n",
       "    <tr>\n",
       "      <th>36457</th>\n",
       "      <td>2008</td>\n",
       "      <td>7</td>\n",
       "      <td>5</td>\n",
       "      <td>15.5</td>\n",
       "      <td>30.8</td>\n",
       "      <td>0.0</td>\n",
       "      <td>7.0</td>\n",
       "      <td>10.8</td>\n",
       "      <td>337.5</td>\n",
       "      <td>46.0</td>\n",
       "      <td>...</td>\n",
       "      <td>37.0</td>\n",
       "      <td>16.0</td>\n",
       "      <td>1016.3</td>\n",
       "      <td>1012.6</td>\n",
       "      <td>1.0</td>\n",
       "      <td>1.0</td>\n",
       "      <td>22.2</td>\n",
       "      <td>29.6</td>\n",
       "      <td>0</td>\n",
       "      <td>0</td>\n",
       "    </tr>\n",
       "    <tr>\n",
       "      <th>...</th>\n",
       "      <td>...</td>\n",
       "      <td>...</td>\n",
       "      <td>...</td>\n",
       "      <td>...</td>\n",
       "      <td>...</td>\n",
       "      <td>...</td>\n",
       "      <td>...</td>\n",
       "      <td>...</td>\n",
       "      <td>...</td>\n",
       "      <td>...</td>\n",
       "      <td>...</td>\n",
       "      <td>...</td>\n",
       "      <td>...</td>\n",
       "      <td>...</td>\n",
       "      <td>...</td>\n",
       "      <td>...</td>\n",
       "      <td>...</td>\n",
       "      <td>...</td>\n",
       "      <td>...</td>\n",
       "      <td>...</td>\n",
       "      <td>...</td>\n",
       "    </tr>\n",
       "    <tr>\n",
       "      <th>39510</th>\n",
       "      <td>2017</td>\n",
       "      <td>6</td>\n",
       "      <td>20</td>\n",
       "      <td>19.3</td>\n",
       "      <td>33.4</td>\n",
       "      <td>0.0</td>\n",
       "      <td>6.0</td>\n",
       "      <td>11.0</td>\n",
       "      <td>22.5</td>\n",
       "      <td>35.0</td>\n",
       "      <td>...</td>\n",
       "      <td>63.0</td>\n",
       "      <td>32.0</td>\n",
       "      <td>1013.9</td>\n",
       "      <td>1010.5</td>\n",
       "      <td>0.0</td>\n",
       "      <td>1.0</td>\n",
       "      <td>24.5</td>\n",
       "      <td>32.3</td>\n",
       "      <td>0</td>\n",
       "      <td>0</td>\n",
       "    </tr>\n",
       "    <tr>\n",
       "      <th>39511</th>\n",
       "      <td>2017</td>\n",
       "      <td>6</td>\n",
       "      <td>21</td>\n",
       "      <td>21.2</td>\n",
       "      <td>32.6</td>\n",
       "      <td>0.0</td>\n",
       "      <td>7.6</td>\n",
       "      <td>8.6</td>\n",
       "      <td>0.0</td>\n",
       "      <td>37.0</td>\n",
       "      <td>...</td>\n",
       "      <td>56.0</td>\n",
       "      <td>28.0</td>\n",
       "      <td>1014.6</td>\n",
       "      <td>1011.2</td>\n",
       "      <td>7.0</td>\n",
       "      <td>0.0</td>\n",
       "      <td>24.8</td>\n",
       "      <td>32.0</td>\n",
       "      <td>0</td>\n",
       "      <td>0</td>\n",
       "    </tr>\n",
       "    <tr>\n",
       "      <th>39512</th>\n",
       "      <td>2017</td>\n",
       "      <td>6</td>\n",
       "      <td>22</td>\n",
       "      <td>20.7</td>\n",
       "      <td>32.8</td>\n",
       "      <td>0.0</td>\n",
       "      <td>5.6</td>\n",
       "      <td>11.0</td>\n",
       "      <td>0.0</td>\n",
       "      <td>33.0</td>\n",
       "      <td>...</td>\n",
       "      <td>46.0</td>\n",
       "      <td>23.0</td>\n",
       "      <td>1015.3</td>\n",
       "      <td>1011.8</td>\n",
       "      <td>0.0</td>\n",
       "      <td>0.0</td>\n",
       "      <td>24.8</td>\n",
       "      <td>32.1</td>\n",
       "      <td>0</td>\n",
       "      <td>0</td>\n",
       "    </tr>\n",
       "    <tr>\n",
       "      <th>39513</th>\n",
       "      <td>2017</td>\n",
       "      <td>6</td>\n",
       "      <td>23</td>\n",
       "      <td>19.5</td>\n",
       "      <td>31.8</td>\n",
       "      <td>0.0</td>\n",
       "      <td>6.2</td>\n",
       "      <td>10.6</td>\n",
       "      <td>337.5</td>\n",
       "      <td>26.0</td>\n",
       "      <td>...</td>\n",
       "      <td>62.0</td>\n",
       "      <td>58.0</td>\n",
       "      <td>1014.9</td>\n",
       "      <td>1010.7</td>\n",
       "      <td>1.0</td>\n",
       "      <td>1.0</td>\n",
       "      <td>24.8</td>\n",
       "      <td>29.2</td>\n",
       "      <td>0</td>\n",
       "      <td>0</td>\n",
       "    </tr>\n",
       "    <tr>\n",
       "      <th>39514</th>\n",
       "      <td>2017</td>\n",
       "      <td>6</td>\n",
       "      <td>24</td>\n",
       "      <td>20.2</td>\n",
       "      <td>31.7</td>\n",
       "      <td>0.0</td>\n",
       "      <td>5.6</td>\n",
       "      <td>10.7</td>\n",
       "      <td>22.5</td>\n",
       "      <td>30.0</td>\n",
       "      <td>...</td>\n",
       "      <td>73.0</td>\n",
       "      <td>32.0</td>\n",
       "      <td>1013.9</td>\n",
       "      <td>1009.7</td>\n",
       "      <td>6.0</td>\n",
       "      <td>5.0</td>\n",
       "      <td>25.4</td>\n",
       "      <td>31.0</td>\n",
       "      <td>0</td>\n",
       "      <td>0</td>\n",
       "    </tr>\n",
       "  </tbody>\n",
       "</table>\n",
       "<p>3062 rows × 24 columns</p>\n",
       "</div>"
      ],
      "text/plain": [
       "       Year  Month  DayOfMonth  MinTemp  MaxTemp  Rainfall  Evaporation  \\\n",
       "36453  2008      7           1     20.0     33.1       0.0          4.4   \n",
       "36454  2008      7           2     19.4     32.4       0.0          6.0   \n",
       "36455  2008      7           3     18.2     31.8       0.0          8.0   \n",
       "36456  2008      7           4     17.3     30.7       0.0          7.0   \n",
       "36457  2008      7           5     15.5     30.8       0.0          7.0   \n",
       "...     ...    ...         ...      ...      ...       ...          ...   \n",
       "39510  2017      6          20     19.3     33.4       0.0          6.0   \n",
       "39511  2017      6          21     21.2     32.6       0.0          7.6   \n",
       "39512  2017      6          22     20.7     32.8       0.0          5.6   \n",
       "39513  2017      6          23     19.5     31.8       0.0          6.2   \n",
       "39514  2017      6          24     20.2     31.7       0.0          5.6   \n",
       "\n",
       "       Sunshine  WindGustDir  WindGustSpeed  ...  Humidity9am  Humidity3pm  \\\n",
       "36453      11.0          0.0           41.0  ...         81.0         32.0   \n",
       "36454      10.4         22.5           50.0  ...         81.0         17.0   \n",
       "36455      11.0          0.0           46.0  ...         38.0         24.0   \n",
       "36456      10.4          0.0           44.0  ...         55.0         16.0   \n",
       "36457      10.8        337.5           46.0  ...         37.0         16.0   \n",
       "...         ...          ...            ...  ...          ...          ...   \n",
       "39510      11.0         22.5           35.0  ...         63.0         32.0   \n",
       "39511       8.6          0.0           37.0  ...         56.0         28.0   \n",
       "39512      11.0          0.0           33.0  ...         46.0         23.0   \n",
       "39513      10.6        337.5           26.0  ...         62.0         58.0   \n",
       "39514      10.7         22.5           30.0  ...         73.0         32.0   \n",
       "\n",
       "       Pressure9am  Pressure3pm  Cloud9am  Cloud3pm  Temp9am  Temp3pm  \\\n",
       "36453       1016.0       1012.1       1.0       2.0     25.4     32.3   \n",
       "36454       1016.8       1012.4       1.0       1.0     24.3     31.9   \n",
       "36455       1017.2       1013.0       0.0       1.0     24.3     31.2   \n",
       "36456       1017.3       1013.6       2.0       6.0     21.3     29.8   \n",
       "36457       1016.3       1012.6       1.0       1.0     22.2     29.6   \n",
       "...            ...          ...       ...       ...      ...      ...   \n",
       "39510       1013.9       1010.5       0.0       1.0     24.5     32.3   \n",
       "39511       1014.6       1011.2       7.0       0.0     24.8     32.0   \n",
       "39512       1015.3       1011.8       0.0       0.0     24.8     32.1   \n",
       "39513       1014.9       1010.7       1.0       1.0     24.8     29.2   \n",
       "39514       1013.9       1009.7       6.0       5.0     25.4     31.0   \n",
       "\n",
       "       RainToday  RainTomorrow  \n",
       "36453          0             0  \n",
       "36454          0             0  \n",
       "36455          0             0  \n",
       "36456          0             0  \n",
       "36457          0             0  \n",
       "...          ...           ...  \n",
       "39510          0             0  \n",
       "39511          0             0  \n",
       "39512          0             0  \n",
       "39513          0             0  \n",
       "39514          0             0  \n",
       "\n",
       "[3062 rows x 24 columns]"
      ]
     },
     "execution_count": 147,
     "metadata": {},
     "output_type": "execute_result"
    }
   ],
   "source": [
    "x = darwin.drop('RainTomorrow', axis = 1)\n",
    "y = darwin['RainTomorrow']\n",
    "train_data, test_data, train_labels, test_labels = train_test_split(x,y, test_size = 0.3, random_state = 42)\n",
    "darwin"
   ]
  },
  {
   "cell_type": "markdown",
   "metadata": {},
   "source": [
    "## 2.0 Building a Regression Model\n",
    "\n",
    "#### 2.1 (3 Points)\n",
    "We’ll start by creating a regression model. **Does it make sense for us to use linear regression or logistic regression? Explain your choice.**"
   ]
  },
  {
   "cell_type": "markdown",
   "metadata": {},
   "source": [
    "*I am going to go with a logistic regression. I think it would be beneficial to see the correlation and relevance of rainfall to each variable in the data set. It will allow us to see what parameters are the most statistically significant in the model. Also since the question is more of a yes or no question logistic regression would be more applicable.*"
   ]
  },
  {
   "cell_type": "markdown",
   "metadata": {},
   "source": [
    "#### 2.2 (12 Points)\n",
    "Create a regression model. Use the model summary to determine which parameters are most statistically significant in your model. If you get an error during at this stage it may be helpful to go back to part 1.3 and ensure that all of your data is appropriate for creating a model. "
   ]
  },
  {
   "cell_type": "code",
   "execution_count": 148,
   "metadata": {},
   "outputs": [
    {
     "name": "stdout",
     "output_type": "stream",
     "text": [
      "Optimization terminated successfully.\n",
      "         Current function value: 0.281248\n",
      "         Iterations 9\n",
      "                           Logit Regression Results                           \n",
      "==============================================================================\n",
      "Dep. Variable:           RainTomorrow   No. Observations:                 2143\n",
      "Model:                          Logit   Df Residuals:                     2119\n",
      "Method:                           MLE   Df Model:                           23\n",
      "Date:                Sat, 22 Apr 2023   Pseudo R-squ.:                  0.5083\n",
      "Time:                        14:40:52   Log-Likelihood:                -602.71\n",
      "converged:                       True   LL-Null:                       -1225.8\n",
      "Covariance Type:            nonrobust   LLR p-value:                4.816e-249\n",
      "=================================================================================\n",
      "                    coef    std err          z      P>|z|      [0.025      0.975]\n",
      "---------------------------------------------------------------------------------\n",
      "const           175.7731     67.037      2.622      0.009      44.384     307.163\n",
      "Year             -0.0161      0.029     -0.545      0.585      -0.074       0.042\n",
      "Month            -0.0165      0.022     -0.752      0.452      -0.060       0.027\n",
      "DayOfMonth        0.0036      0.008      0.429      0.668      -0.013       0.020\n",
      "MinTemp          -0.0663      0.078     -0.855      0.393      -0.218       0.086\n",
      "MaxTemp           0.0797      0.096      0.828      0.408      -0.109       0.268\n",
      "Rainfall          0.0068      0.008      0.828      0.408      -0.009       0.023\n",
      "Evaporation      -0.0597      0.045     -1.333      0.182      -0.147       0.028\n",
      "Sunshine         -0.1929      0.043     -4.437      0.000      -0.278      -0.108\n",
      "WindGustDir      -0.0004      0.001     -0.526      0.599      -0.002       0.001\n",
      "WindGustSpeed     0.0779      0.009      8.545      0.000       0.060       0.096\n",
      "WindDir9am       -0.0010      0.001     -1.430      0.153      -0.002       0.000\n",
      "WindDir3pm       -0.0015      0.001     -1.166      0.243      -0.004       0.001\n",
      "WindSpeed9am     -0.0198      0.015     -1.333      0.183      -0.049       0.009\n",
      "WindSpeed3pm     -0.0459      0.014     -3.197      0.001      -0.074      -0.018\n",
      "Humidity9am       0.0229      0.016      1.428      0.153      -0.009       0.054\n",
      "Humidity3pm       0.0875      0.015      5.944      0.000       0.059       0.116\n",
      "Pressure9am       0.3971      0.121      3.272      0.001       0.159       0.635\n",
      "Pressure3pm      -0.5605      0.128     -4.385      0.000      -0.811      -0.310\n",
      "Cloud9am         -0.1034      0.051     -2.021      0.043      -0.204      -0.003\n",
      "Cloud3pm          0.1482      0.054      2.757      0.006       0.043       0.254\n",
      "Temp9am           0.3184      0.097      3.290      0.001       0.129       0.508\n",
      "Temp3pm           0.0687      0.091      0.754      0.451      -0.110       0.247\n",
      "RainToday         0.1993      0.211      0.945      0.345      -0.214       0.613\n",
      "=================================================================================\n"
     ]
    }
   ],
   "source": [
    "#Write your code here\n",
    "logit_model = sm.Logit(train_labels, sm.add_constant(train_data))\n",
    "result = logit_model.fit()\n",
    "print(result.summary() )"
   ]
  },
  {
   "cell_type": "markdown",
   "metadata": {},
   "source": [
    "*A few of the statistically significant features consist of Year, Mintemp, Evaporation, Sunshine, RainToday.*"
   ]
  },
  {
   "cell_type": "markdown",
   "metadata": {},
   "source": [
    "#### 2.3 (8 Points)\n",
    "**Fit your test data and create/print a confusion matrix. We’ll use this to evaluate how well your predicitve model performs.**"
   ]
  },
  {
   "cell_type": "code",
   "execution_count": 149,
   "metadata": {},
   "outputs": [],
   "source": [
    "rerun_training = True\n",
    "filename = 'full_face_model.p'\n",
    "tmp_vectors = train_data\n",
    "tmp_labels = train_labels"
   ]
  },
  {
   "cell_type": "code",
   "execution_count": 150,
   "metadata": {},
   "outputs": [
    {
     "name": "stdout",
     "output_type": "stream",
     "text": [
      "              precision    recall  f1-score   support\n",
      "\n",
      "           0       0.92      0.90      0.91       685\n",
      "           1       0.73      0.76      0.74       234\n",
      "\n",
      "    accuracy                           0.87       919\n",
      "   macro avg       0.82      0.83      0.83       919\n",
      "weighted avg       0.87      0.87      0.87       919\n",
      "\n",
      "[[619  66]\n",
      " [ 56 178]]\n"
     ]
    },
    {
     "data": {
      "text/plain": [
       "<function matplotlib.pyplot.show(close=None, block=None)>"
      ]
     },
     "execution_count": 150,
     "metadata": {},
     "output_type": "execute_result"
    },
    {
     "data": {
      "image/png": "[encoded data removed]",
      "text/plain": [
       "<Figure size 432x288 with 2 Axes>"
      ]
     },
     "metadata": {
      "needs_background": "light"
     },
     "output_type": "display_data"
    }
   ],
   "source": [
    "predict_vectors = sm.add_constant(test_data)\n",
    "true_labels = test_labels\n",
    "\n",
    "pred_labels = np.round(result.predict(predict_vectors))\n",
    "\n",
    "cm = confusion_matrix(true_labels, pred_labels)\n",
    "\n",
    "print(classification_report(true_labels, pred_labels))\n",
    "print(confusion_matrix(true_labels, pred_labels))\n",
    "\n",
    "CM = metrics.ConfusionMatrixDisplay(confusion_matrix = cm, display_labels = [True, False])\n",
    "CM.plot()\n",
    "plt.title(\"Confusion Matrix for Rain Prediciton\")\n",
    "plt.show"
   ]
  },
  {
   "cell_type": "markdown",
   "metadata": {},
   "source": [
    "#### 2.4 (3 Points)\n",
    "Look at/calculate the Precision and Recall of your model. **Which one is greater? Describe in plain language what that means about the performance of your model (I.e., the circumstances in which it does/doesn’t do well).**"
   ]
  },
  {
   "cell_type": "markdown",
   "metadata": {},
   "source": [
    "*Precision how often it is predicted posivite and is right. Recall the ratio of true positives to the sum of true positives and false negatives. Precision appears to be greater when the model is predicting it won't rain. Where as Recall is greater when the model is predicting it will rain.*"
   ]
  },
  {
   "cell_type": "markdown",
   "metadata": {},
   "source": [
    "## 3.0 Interlude: A Base Rate Frequency Model (12 Points)\n",
    "\n",
    "If we didn't create a fancy model for predicting future rainfall, would that mean that we had *no way* of predicting if it would rain? Of course not. There's always *some* kind of model we can use (they just won't be very sophisticated). \n",
    "\n",
    "In the case of our problem--predicting whether it will rain tomorrow--what is the simplest model we could use? We'd need to look at the **base rate frequency**. If we know that, over the course of the year, it rains ~30% of the time, that would be our base rate frequency. If we were to guess that it would be sunny every day of the year, we'd be wrong ~30% of the time, *but we'd be right ~70% of the time.* \n",
    "\n",
    "Why is this important? Imagine we create a sophisticated model that accurately predicts rain/no rain ~60% of the time; without any other information, we might think, \"That's not too bad, I guess.\" It certainly feels better than *no* information, right? Now think about the base rate frequency model, which achieves an accuracy of **70%** just by guessing the same thing every time. Suddenly, our sophisticated model seems like crap! It tells us we could be doing ~10% better than our fancy model by guessing. This is why we use the base rate frequency as a simple way to test our models.\n",
    "\n",
    "\n",
    "**Calculate how frequently it rains in your city. If you were to guess that it *wasn't* going to rain every day, how frequently would you be right? (We'll use this as our baseline model.)**\n"
   ]
  },
  {
   "cell_type": "code",
   "execution_count": 151,
   "metadata": {},
   "outputs": [
    {
     "name": "stdout",
     "output_type": "stream",
     "text": [
      "0.7423252775963423\n"
     ]
    }
   ],
   "source": [
    "#Write your code for calculating the frequency of rain here.\n",
    "rains = darwin[\"RainTomorrow\"] == 1\n",
    "rainy_days = rains.sum()\n",
    "days = len(darwin.index)\n",
    "\n",
    "Frequency = 1 - rainy_days/days\n",
    "print(Frequency)"
   ]
  },
  {
   "cell_type": "markdown",
   "metadata": {},
   "source": [
    "*It would be right 74.2% of the time.*"
   ]
  },
  {
   "cell_type": "markdown",
   "metadata": {},
   "source": [
    "---\n",
    "\n",
    "### &#128721; STOP (3 Point)\n",
    "**Pause to commit your changes to your Git repository!**\n",
    "\n",
    "Take a moment to save your notebook, commit the changes to your Git repository with a meaningful commit message.\n",
    "\n",
    "---"
   ]
  },
  {
   "cell_type": "markdown",
   "metadata": {},
   "source": [
    "## 4.0 SVM Model\n",
    "\n",
    "We’ve seen how regression faired in predicting rain; now let’s give Support Vector Machines a shot. \n",
    "\n",
    "It’s not clear, *a priori*, which type of kernel (linear or RBF) would fair better. Therefore, we’ll need to test out both kernel types, as well as multiple values for hyperparameters ($C$ and $\\gamma$). \n",
    "\n",
    "#### 4.1 (12 Points)\n",
    "Run a grid search over both types of kernels and multiple values of $C$ and $\\gamma$ (we recommend [0.01,0.1,1.0,10.0] for both). We *STRONGLY* recommend you set the parameter `n_jobs=-1` in `GridSearchCV`, which will distribute the computational load. Make sure to write down your best-fit hyperparameters. "
   ]
  },
  {
   "cell_type": "code",
   "execution_count": 152,
   "metadata": {},
   "outputs": [
    {
     "name": "stdout",
     "output_type": "stream",
     "text": [
      "Fitting the classifier to the training set\n",
      "Best estimator found by grid search:\n",
      "SVC(C=0.01, class_weight='balanced', gamma=0.01, kernel='linear')\n",
      "Best parameters found by grid search:\n",
      "{'C': 0.01, 'gamma': 0.01, 'kernel': 'linear'}\n",
      "Runtime 313.9468951225281\n"
     ]
    }
   ],
   "source": [
    "start = time.time()\n",
    "\n",
    "tmp_vectors = train_data\n",
    "tmp_labels = train_labels\n",
    "\n",
    "print(\"Fitting the classifier to the training set\")\n",
    "\n",
    "param_grid = {'C': [0.01,0.1,1.0,10.0],\n",
    "              'gamma': [0.01,0.1,1.0,10.0],\n",
    "              'kernel': ['linear','rbf']}\n",
    "# make a classifier by searching over a classifier and the parameter grid\n",
    "clf = GridSearchCV(SVC(class_weight='balanced'), param_grid)\n",
    "\n",
    "# we have a \"good\" classifier (according to GridSearchCV), how's it look\n",
    "clf = clf.fit(tmp_vectors, tmp_labels)\n",
    "print(\"Best estimator found by grid search:\")\n",
    "print(clf.best_estimator_)\n",
    "print(\"Best parameters found by grid search:\")\n",
    "print(clf.best_params_)\n",
    "\n",
    "end = time.time()\n",
    "print(\"Runtime\",end - start)"
   ]
  },
  {
   "cell_type": "markdown",
   "metadata": {},
   "source": [
    "*The best for hyper-parameters are 0.01 for both C and gamma.*"
   ]
  },
  {
   "cell_type": "markdown",
   "metadata": {},
   "source": [
    "#### 4.2 (8 Points)\n",
    "Using your best-fit parameters, classify your test data and print off the confusion matrix. Note/calculate the Precision and Recall for your SVM model, as well as the overall accuracy.\n",
    "\n",
    "$\\mathrm{Accuracy} = \\frac{\\mathrm{Accurate~Predictions}}{\\mathrm{Total~Samples}}$."
   ]
  },
  {
   "cell_type": "code",
   "execution_count": 153,
   "metadata": {},
   "outputs": [
    {
     "name": "stdout",
     "output_type": "stream",
     "text": [
      "Fitting the classifier to the training set\n",
      "Predicting if it will \n",
      "              precision    recall  f1-score   support\n",
      "\n",
      "           0       0.96      0.81      0.88       685\n",
      "           1       0.62      0.89      0.73       234\n",
      "\n",
      "    accuracy                           0.83       919\n",
      "   macro avg       0.79      0.85      0.80       919\n",
      "weighted avg       0.87      0.83      0.84       919\n",
      "\n",
      "The Accuracy is 0.8313384113166485\n"
     ]
    },
    {
     "data": {
      "image/png": "[encoded data removed]",
      "text/plain": [
       "<Figure size 432x288 with 2 Axes>"
      ]
     },
     "metadata": {
      "needs_background": "light"
     },
     "output_type": "display_data"
    }
   ],
   "source": [
    "tmp_vectors = train_data\n",
    "tmp_labels = train_labels\n",
    "\n",
    "print(\"Fitting the classifier to the training set\")\n",
    "param_grid = {'C': [0.01],'gamma': [0.01], 'kernel': ['linear']}\n",
    "\n",
    "clf = GridSearchCV(SVC(class_weight='balanced'), param_grid, n_jobs = -1)\n",
    "clf = clf.fit(tmp_vectors, tmp_labels)\n",
    "pred_x = test_data\n",
    "y_true = test_labels\n",
    "print(\"Predicting if it will \")\n",
    "pred_labels = clf.predict(pred_x)\n",
    "print(classification_report(y_true, pred_labels))\n",
    "ConfusionMatrixDisplay.from_estimator(clf, test_data, test_labels, display_labels = [True, False])\n",
    "\n",
    "prediction = 555+209\n",
    "total = 919\n",
    "Accuracy = prediction/total\n",
    "print(\"The Accuracy is\",Accuracy)"
   ]
  },
  {
   "cell_type": "code",
   "execution_count": 154,
   "metadata": {},
   "outputs": [
    {
     "name": "stdout",
     "output_type": "stream",
     "text": [
      "[[622  63]\n",
      " [ 61 173]]\n",
      "              precision    recall  f1-score   support\n",
      "\n",
      "           0       0.91      0.91      0.91       685\n",
      "           1       0.73      0.74      0.74       234\n",
      "\n",
      "    accuracy                           0.87       919\n",
      "   macro avg       0.82      0.82      0.82       919\n",
      "weighted avg       0.87      0.87      0.87       919\n",
      "\n",
      "0.8650707290533188\n"
     ]
    }
   ],
   "source": [
    "#Write your code here\n",
    "pred_labels = grid_search.predict(test_data)\n",
    "\n",
    "print(confusion_matrix(true_labels, pred_labels))\n",
    "print(classification_report(true_labels, pred_labels))\n",
    "\n",
    "Acurracy = (622+173)/len(test_data)\n",
    "print(Acurracy)"
   ]
  },
  {
   "cell_type": "markdown",
   "metadata": {},
   "source": [
    "## 5. Evaluation of Models\n",
    "\n",
    "Here we’re going to investigate how well our predictive models actually work.\n",
    "\n",
    "\n",
    "#### 5.1 (5 Points)\n",
    "\n",
    "Compare the accuracy of both of your predictive models (regression and SVM) to the baseline model from part 3. Do your predictive models do better than the baseline model? Is their performance relative to the baseline model what *you* would expect? \n"
   ]
  },
  {
   "cell_type": "markdown",
   "metadata": {},
   "source": [
    "*The baseline model accuracy was the lowest accuracy. The value was found to be 74.5%, this was the lowest accuracy. The SVM was found to have a higher accuracy of 83.1%. The accuracy for the regression model was found to be the most accurate at 86.5%. Both of the models created were found to be more accurate then the simple frequency model. I did expect this performance relative to the baseline model. Since the two models are Machine learning models and learning from the data how to predict accurate values. Therefore, it makes sense that the value would be quite a bit higher than the simple frequency prediction, where we simply predicted that it won't rain everyday since that is what happens majority of the time.*"
   ]
  },
  {
   "cell_type": "markdown",
   "metadata": {},
   "source": [
    "#### 5.2 (5 Points)\n",
    "\n",
    "Let’s test the robustness of your model. Before you do anything, you should record the precision, recall, and accuracy of your two predictive models (if you haven’t already). Once you’ve done that, go all the way back to part 1.4 and change the random seed for `train_test_split`. Using this new data split, rerun all of your code from parts 2 and 4. For each new random seed, record the precision, recall, and accuracy for both models (and write them, as well as the random seed, in the cell below!). Do this for 3-5 different random seeds. \n"
   ]
  },
  {
   "cell_type": "markdown",
   "metadata": {},
   "source": [
    "**Regession Model:**\n",
    "\n",
    "Initially: seed = 42, accuracy = 87%, precision = 0: 0.92, 1: 0.73, recall = 0: 0.90, 0: 0.76.\n",
    "\n",
    "Round 2: seed = 21, accuracy = 86%, precision = 0: 0.88, 1: 0.78, recall = 0: 0.94, 0: 0.60.\n",
    "\n",
    "Round 3: seed = 84, accuracy = 87%, precision = 0: 0.92, 1: 0.75, recall = 0: 0.92, 0: 0.75.\n",
    "\n",
    "Round 4: seed = 168, accuracy = 86%, precision = 0: 0.89, 1: 0.74, recall = 0: 0.93, 0: 0.65.\n",
    "\n",
    "\n",
    "**SVM:** \n",
    "\n",
    "Initially: seed = 42, accuracy = 83%, precision = 0: 0.96, 1: 0.62, recall = 0: 0.81, 0: 0.89.\n",
    "\n",
    "Round 2: seed = 21, accuracy = 86%, precision = 0: 0.95, 1: 0.68, recall = 0: 0.86, 0: 0.85.\n",
    "\n",
    "Round 3: seed = 84, accuracy = 84%, precision = 0: 0.91, 1: 0.73, recall = 0: 0.91, 0: 0.84.\n",
    "\n",
    "Round 4: seed = 168, accuracy = 85%, precision = 0: 0.95, 1: 0.64, recall = 0: 0.84, 0: 0.88."
   ]
  },
  {
   "cell_type": "markdown",
   "metadata": {},
   "source": [
    "#### 5.3 (5 Points)\n",
    "\n",
    "How much variation did you observe in the precision, recall, and accuracy in your models? After going through this exercise, how (if at all) does this change your response to part 5.1? "
   ]
  },
  {
   "cell_type": "markdown",
   "metadata": {},
   "source": [
    "*There was very little variation in accuracy for all the different seeds for the regression and SVM. When the seed was changed the accuracy for both models still remained above the baseline level. The precision and recall varied a bit more, but not to an extreme amount that would affect the accuracy. Therefore I wouldn't change anything from my response in 5.1*"
   ]
  },
  {
   "cell_type": "markdown",
   "metadata": {},
   "source": [
    "#### 5.4 (5 Points)\n",
    "\n",
    "Finally, compare the performance of your regression and SVM models. Which, if any, performed better? Esxplain."
   ]
  },
  {
   "cell_type": "markdown",
   "metadata": {},
   "source": [
    "*When looking at the regression model comapred to the SVM, they are consistently better then the baseline. We can see that they are both some what decent models and have similar values for accuracy, precision, and recall. However, the regression model is more accurate compared to the SVM and appears to perform better. Especially since the regression model values flucuated less when set at different seeds. Therefore making it a more consistent model. The SVM tended to go up and down when the seeds were changed, nothing too major but them regression model stayed between 86% and 87%. Therefore the regression model is my choice for the day.*"
   ]
  },
  {
   "cell_type": "markdown",
   "metadata": {},
   "source": [
    "---\n",
    "\n",
    "### &#128721; STOP (3 Point)\n",
    "**Pause to commit your changes to your Git repository!**\n",
    "\n",
    "Take a moment to save your notebook, commit the changes to your Git repository with a meaningful commit message.\n",
    "\n",
    "---"
   ]
  },
  {
   "cell_type": "markdown",
   "metadata": {},
   "source": [
    "### Congratulations, you're done!"
   ]
  },
  {
   "cell_type": "markdown",
   "metadata": {},
   "source": [
    "&#169; Copyright 2022,  Department of Computational Mathematics, Science and Engineering at Michigan State University"
   ]
  }
 ],
 "metadata": {
  "kernelspec": {
   "display_name": "Python 3",
   "language": "python",
   "name": "python3"
  },
  "language_info": {
   "codemirror_mode": {
    "name": "ipython",
    "version": 3
   },
   "file_extension": ".py",
   "mimetype": "text/x-python",
   "name": "python",
   "nbconvert_exporter": "python",
   "pygments_lexer": "ipython3",
   "version": "3.8.8"
  }
 },
 "nbformat": 4,
 "nbformat_minor": 2
}
