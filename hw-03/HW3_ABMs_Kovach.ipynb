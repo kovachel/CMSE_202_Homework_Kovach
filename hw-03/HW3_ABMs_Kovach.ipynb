{
 "cells": [
  {
   "cell_type": "markdown",
   "metadata": {},
   "source": [
    "# Homework Assignment 3 (Individual)\n",
    "\n",
    "---"
   ]
  },
  {
   "cell_type": "markdown",
   "metadata": {},
   "source": [
    "### <p style=\"text-align: right;\"> &#9989; Ella Kovach.</p>"
   ]
  },
  {
   "cell_type": "markdown",
   "metadata": {},
   "source": [
    "\n",
    "---\n",
    "## Creating a natural selection model using ABMs and OOP\n",
    "\n",
    "In this homework, we have two sections.\n",
    "\n",
    "- **Part A: Git practice**\n",
    "- **Part B: ABM + OOP: Simulating animal populations -- Natural selection and adaptation**\n",
    "\n",
    "<img src=\"https://raw.githubusercontent.com/huichiayu/cmse_202_802/main/IMGs/rock_mice.jpg\" border=\"0\" align=\"center\" width=\"600\">\n",
    "image found online.\n",
    "\n",
    "\n",
    "### Goal for this homework assignment\n",
    "By now, you have learned ABM and OOP through the assignments of assembling Zoo and Superbugs. Let's use those skills to build a simple fun model of natural selection. \n",
    "\n",
    "**This assignment is due roughly two weeks from now at 11:59 pm on Friday, March 31.** It should be uploaded into the \"Homework Assignments\" submission folder for Homework #3, as well as GitHub turn-in repo.  Submission instructions can be found at the end of the notebook. **The distribution of points can be found in the section headers**.\n"
   ]
  },
  {
   "cell_type": "markdown",
   "metadata": {},
   "source": [
    "---\n",
    "## Part 0: Upload this file to your Git repository to track your progress on your assignment (15 pt)\n",
    "\n",
    "#### Note: This is different from previous assignments!\n",
    "\n",
    "You will add this homework assignment to your GutHub repository you created for previous homework so that you can track your progress on the assignment and preserve the final version that you turn in. We also want you to get practice with **branching**, as that will be important and useful for your group projects. \n",
    "\n",
    "**&#9989; Do the following**:\n",
    "\n",
    "\n",
    "1. Navigate to your `cmse202-s23-turnin` repository \n",
    "2. Create a new branch called `hw03_branch` and move into it. \n",
    "3. Create a new directory called `hw-03`.\n",
    "4. Move this notebook into that **new directory**, then **add** and **commit** it. \n",
    "5. Finally, to test that everything is working, `git push` the file and new branch so they end up in your GitHub repository. \n",
    "\n",
    "**Important**: Make sure to add your Professor and TA as collaborators of this respository with \"Read\" access so that we can see your assignment (you should have done this in the previous homework assignment)\n",
    "\n",
    "**Also**: Make sure that the version of this notebook that you are working on is the same one that you just added to your repository! If you are working on a different copy of the noteobok, **none of your changes will be tracked**!\n",
    "\n",
    "If everything went as intended, the file should now show up on your GitHub account in the `cmse202-s23-turnin` repository inside the `hw-03` directory and `hw-03` branch that you just created.  Periodically, **you'll be asked to commit your changes and push them to the remote GitHub location**. Of course, you can always commit your changes more often than that, if you wish.  It will be good to develop a habit of committing your changes any time you make a significant modification, or when you stop working on the project for a bit.\n",
    "\n"
   ]
  },
  {
   "cell_type": "markdown",
   "metadata": {},
   "source": [
    "---\n",
    "\n",
    "# A natural selection model\n",
    "For this homework assignment, you will be building an Agent-Based Model (ABM) that simulates natural selection in action. You will build two classes for mice, which inhabit the world, and one class for a (predator) hawk. The mice have different fur color, which allows them to blend in better (or worse) with their environment. This model is (loosely) based on an actual case of natural selection involving the [Peppered Moth](https://en.wikipedia.org/wiki/Peppered_moth_evolution).\n",
    "\n",
    "For this assignment, you will be working with an environment class, which will allow you to actually run your simulation. We've also provided you with a generic `Animal_Agent`, which you will use to build your own classes for the natural selection model. You will need to download the generic `Animal_Agent` class and `Environment` class. You can find them here:\n",
    "\n",
    "- `https://raw.githubusercontent.com/msu-cmse-courses/cmse202-S23-data/main/HW/HW3/Animal_Agent_Class.py`\n",
    "- `https://raw.githubusercontent.com/msu-cmse-courses/cmse202-S23-data/main/HW/HW3/Environment.py`"
   ]
  },
  {
   "cell_type": "markdown",
   "metadata": {},
   "source": [
    "## 1. Building Up an Environment with Animal Agents\n",
    "\n",
    "\n",
    "\n",
    "### 1.1 (5 Points)\n",
    "\n",
    "Spend some time exploring the new classes a bit. **Write a few sentences giving a high-level description of how this model works. What are the different classes? What do they do? How can they be used to create an Agent-Based Model?**\n"
   ]
  },
  {
   "cell_type": "markdown",
   "metadata": {},
   "source": [
    "*In the Animal Agent model it appears to be demonstarting all the different factors for predator vs. prey and how they affect one another and their population. The characteristics are predators can hunt prey, prey can procreate, and both predator and prey can move around and age. Classes within the model consist of procreation if it is a prey, therefore taking into account varaibles such as what type animal it is, what the litter size and age to see if it it still can procreate, that wil then sum the total child_list aka population. This will allow the Prey part of the model to keep growing and moving. Another class within the model is hunting if it is a predator, this allows for the predators to hunt and kill prey. Therefore keeping the prey alive and killing the predators in the model. Allowing the agent based model to keep following and interacting.\n",
    "\n",
    "In the Environment model it appears to be simulating the animals environment and plots the animals environment. A few of the classes add an animal, simulate and plot the environment. This allows to plot the environment accurately with animals on it and the environment set. so the agent based model can be visualized.*"
   ]
  },
  {
   "cell_type": "code",
   "execution_count": 72,
   "metadata": {},
   "outputs": [],
   "source": [
    "import random \n",
    "import numpy as np\n",
    "import math\n",
    "import matplotlib.pyplot as plt\n",
    "import itertools\n",
    "from Animal_Agent_Class import Animal_Agent\n",
    "from Environment import Environment"
   ]
  },
  {
   "cell_type": "markdown",
   "metadata": {},
   "source": [
    "### 1.2 (15 Points)\n",
    "\n",
    "Construct a new `Environment` object and a new `Animal_Agent` object. Specify that the `Animal_Agent` object is a female. Add the `Animal_Agent` object to the `Environment` object. Run the `simulation` method. You should see there's a bug in the code. **Fix the bug and explain what the cause was.**"
   ]
  },
  {
   "cell_type": "code",
   "execution_count": 73,
   "metadata": {},
   "outputs": [
    {
     "data": {
      "image/png": "[encoded data removed]",
      "text/plain": [
       "<Figure size 432x432 with 1 Axes>"
      ]
     },
     "metadata": {
      "needs_background": "light"
     },
     "output_type": "display_data"
    }
   ],
   "source": [
    "#Write your code here\n",
    "jerry = Animal_Agent()\n",
    "Land = Environment()\n",
    "\n",
    "Land.add_agent(jerry)\n",
    "Land.simulate(10)"
   ]
  },
  {
   "cell_type": "markdown",
   "metadata": {},
   "source": [
    "*After a lot of inspection, I noticed that in the environment when we are calling procreate the order is wrong for calling the variables. it called time before the agent list, so I switched the agent list first and then had time following it. This should fix the bug.*"
   ]
  },
  {
   "cell_type": "markdown",
   "metadata": {},
   "source": [
    "### 1.3 (5 Points)\n",
    "\n",
    "**In the cell below, copy your `simulation` code from above and rerun it with the bug fixed to show how the animal runs around.** You should use the `set_allele()` method in the `Animal_Agent` class to randomly assign two alleles to your `Animal_Agent` object.\n"
   ]
  },
  {
   "cell_type": "code",
   "execution_count": 74,
   "metadata": {},
   "outputs": [
    {
     "data": {
      "image/png": "[encoded data removed]",
      "text/plain": [
       "<Figure size 432x432 with 1 Axes>"
      ]
     },
     "metadata": {
      "needs_background": "light"
     },
     "output_type": "display_data"
    }
   ],
   "source": [
    "#Write your code here\n",
    "import random\n",
    "jerry.set_allele(random.randint(0,1),random.randint(0,1))\n",
    "Land.simulate(10)\n"
   ]
  },
  {
   "cell_type": "markdown",
   "metadata": {},
   "source": [
    "### 1.4 (5 Points)\n",
    "\n",
    "**Now add in a predator and let it evolve. Do you see the predator hunting the prey object?** Make sure to set the `ptype` to predator, and the `shape` and `color` to be something different from the prey you defined above (E.g., a shape of \"P\" and a color of \"red\".)"
   ]
  },
  {
   "cell_type": "code",
   "execution_count": 75,
   "metadata": {},
   "outputs": [],
   "source": [
    "#Write your code here\n",
    "tom = Animal_Agent(ptype = \"Predator\", shape = \"P\", color = \"red\")\n",
    "Land.add_agent(tom)"
   ]
  },
  {
   "cell_type": "code",
   "execution_count": 76,
   "metadata": {},
   "outputs": [
    {
     "data": {
      "image/png": "[encoded data removed]",
      "text/plain": [
       "<Figure size 432x432 with 1 Axes>"
      ]
     },
     "metadata": {
      "needs_background": "light"
     },
     "output_type": "display_data"
    }
   ],
   "source": [
    "Land.simulate(10)"
   ]
  },
  {
   "cell_type": "markdown",
   "metadata": {},
   "source": [
    "### 1.5 (15 Points)\n",
    "\n",
    "**Now add *multiple* predator and prey agents ($N > 1$ for both). Find a combination of $N_{\\mathrm{Prey}}$ and $N_{\\mathrm{Predator}}$ where the Prey can maintain a sustainable population (I.e., they aren't wiped out in the long run).**\n",
    "\n",
    "- **NOTE 1:** Make sure you add both male and female Prey, so they can `Procreate`. \n",
    "- **NOTE 2:** We recommend using the `simulate_plot_populations()` method, so you can monitor the growth/decline of populations."
   ]
  },
  {
   "cell_type": "code",
   "execution_count": 83,
   "metadata": {},
   "outputs": [],
   "source": [
    "#Write your code here\n",
    "import random\n",
    "new_environment = Environment()\n",
    "jo = Animal_Agent(sex = \"F\")\n",
    "jo.set_allele(random.randint(0,1),random.randint(0,1))\n",
    "john = Animal_Agent()\n",
    "john.set_allele(random.randint(0,1),random.randint(0,1))\n",
    "karl = Animal_Agent(sex = \"F\")\n",
    "karl.set_allele(0,0)\n",
    "martin = Animal_Agent()\n",
    "martin.set_allele(random.randint(0,1),random.randint(0,1))\n",
    "pat = Animal_Agent(sex = \"F\")\n",
    "pat.set_allele(random.randint(0,1),random.randint(0,1))\n",
    "george = Animal_Agent()\n",
    "george.set_allele(random.randint(0,1),random.randint(0,1))\n",
    "tot = Animal_Agent(sex = \"F\")\n",
    "tot.set_allele(random.randint(0,1),random.randint(0,1))\n",
    "lot = Animal_Agent()\n",
    "lot.set_allele(random.randint(0,1),random.randint(0,1))\n",
    "patty = Animal_Agent(sex = \"F\")\n",
    "patty.set_allele(random.randint(0,1),random.randint(0,1))\n",
    "georgie = Animal_Agent()\n",
    "georgie.set_allele(random.randint(0,1),random.randint(0,1))\n",
    "tots = Animal_Agent(sex = \"F\")\n",
    "tots.set_allele(random.randint(0,1),random.randint(0,1))\n",
    "lots = Animal_Agent()\n",
    "lots.set_allele(random.randint(0,1),random.randint(0,1))\n",
    "pa = Animal_Agent(sex = \"F\")\n",
    "pa.set_allele(random.randint(0,1),random.randint(0,1))\n",
    "geo = Animal_Agent()\n",
    "geo.set_allele(random.randint(0,1),random.randint(0,1))\n",
    "to = Animal_Agent(sex = \"F\")\n",
    "to.set_allele(random.randint(0,1),random.randint(0,1))\n",
    "lo = Animal_Agent()\n",
    "lo.set_allele(random.randint(0,1),random.randint(0,1))\n",
    "paz = Animal_Agent(sex = \"F\")\n",
    "paz.set_allele(random.randint(0,1),random.randint(0,1))\n",
    "geoz = Animal_Agent()\n",
    "geoz.set_allele(random.randint(0,1),random.randint(0,1))\n",
    "toz = Animal_Agent(sex = \"F\")\n",
    "toz.set_allele(random.randint(0,1),random.randint(0,1))\n",
    "loz = Animal_Agent()\n",
    "loz.set_allele(random.randint(0,1),random.randint(0,1))\n",
    "\n",
    "new_environment.add_agent(jo)\n",
    "new_environment.add_agent(john)\n",
    "new_environment.add_agent(karl)\n",
    "new_environment.add_agent(martin)\n",
    "new_environment.add_agent(pat)\n",
    "new_environment.add_agent(george)\n",
    "new_environment.add_agent(tot)\n",
    "new_environment.add_agent(lot)\n",
    "new_environment.add_agent(patty)\n",
    "new_environment.add_agent(georgie)\n",
    "new_environment.add_agent(tots)\n",
    "new_environment.add_agent(lots)\n",
    "new_environment.add_agent(pa)\n",
    "new_environment.add_agent(geo)\n",
    "new_environment.add_agent(to)\n",
    "new_environment.add_agent(lo)\n",
    "new_environment.add_agent(paz)\n",
    "new_environment.add_agent(geoz)\n",
    "new_environment.add_agent(toz)\n",
    "new_environment.add_agent(loz)\n",
    "\n",
    "\n",
    "fred = Animal_Agent(ptype = \"Predator\", color = \"red\")\n",
    "freddie = Animal_Agent(ptype = \"Predator\", color = \"red\")\n",
    "\n",
    "new_environment.add_agent(fred)\n",
    "new_environment.add_agent(freddie)"
   ]
  },
  {
   "cell_type": "code",
   "execution_count": 84,
   "metadata": {},
   "outputs": [
    {
     "data": {
      "image/png": "[encoded data removed]",
      "text/plain": [
       "<Figure size 432x432 with 1 Axes>"
      ]
     },
     "metadata": {
      "needs_background": "light"
     },
     "output_type": "display_data"
    },
    {
     "data": {
      "image/png": "[encoded data removed]",
      "text/plain": [
       "<Figure size 432x288 with 1 Axes>"
      ]
     },
     "metadata": {
      "needs_background": "light"
     },
     "output_type": "display_data"
    }
   ],
   "source": [
    "new_environment.simulate(10)\n",
    "new_environment.simulate_plot_populations(60)"
   ]
  },
  {
   "cell_type": "markdown",
   "metadata": {},
   "source": [
    "### 1.6 (5 Points)\n",
    "\n",
    "**How does the population evolve over time? (I.e., is it linear? Periodic? etc.) What causes this shape? How does the population of light brown and dark brown prey differ (if at all)?**"
   ]
  },
  {
   "cell_type": "markdown",
   "metadata": {},
   "source": [
    "*The population appears to evolve periodically over time. I think this shape is caused by gestation time, time between each procreation, and if the prey are close enough to procreate. These variables lead to a more step like evolution since procreation can only occur sometimes. The light brown population appears to have a higher population, this makes sense since it is the dominant trait. Therefore it is much easier to produce a light brown mouse than a dark brown mouse. The dark brown mice are always lower in population and tend to die out before the light brown. This makes sense since that is the recessive trait and they would be harder to reproduce and therefore easier to kill off since less of them are being produced.*"
   ]
  },
  {
   "cell_type": "markdown",
   "metadata": {},
   "source": [
    "## 2. Refining the Model\n",
    "\n",
    "For this part, we're going to use our generic `Animal_Agent`class to construct child classes that represent *specific* animal species for both our predator and prey animals. Specifically, we'll be making a `Mouse` child class for the prey and a `Hawk` child class for the predator. **We'll use these new child classes to run our natural selection model.**\n",
    "\n",
    "### 2.1 (15 Points)\n",
    "\n",
    "Create a new `Mouse` child class, using the `Animal_Agent` as the parent class. The `Mouse` class will largely be the same as the `Animal_Agent` class except for two details: \n",
    "\n",
    "1. **In the `set_allele` method, add a new class attribute called `catch_probability`. For the light-brown mice, set `catch_probability` to 0.95. For dark brown mice, set the `catch_probability` to 0.05.**\n",
    "2. **Change the `Procreate` method so that they create new `Mouse` animal objects.**\n",
    "\n"
   ]
  },
  {
   "cell_type": "code",
   "execution_count": 41,
   "metadata": {},
   "outputs": [],
   "source": [
    "class Mouse(Animal_Agent):\n",
    "\n",
    "    def __init__(self,xmax=100,ymax=100,ptype=\"Prey\",sex=\"M\",age_limit=50,catch_radius=10,mate_range=5,gestation=8,shape=\"o\",color=\"saddlebrown\",saturation_pop=150):\n",
    "         super().__init__(xmax, ymax, ptype, sex, age_limit, catch_radius, mate_range, gestation, shape, color, saturation_pop)\n",
    "    \n",
    "    def set_allele(self, alle_d, alle_m):\n",
    "\n",
    "        self.alle_d = alle_d\n",
    "        self.alle_m = alle_m\n",
    "        \n",
    "        # Here we set light animal color to be dominant.\n",
    "        if self.alle_d + self.alle_m >= 1:\n",
    "            self.color = 'goldenrod'\n",
    "            self.catch_probability = 0.95\n",
    "            \n",
    "        else:\n",
    "            self.color = \"saddlebrown\"\n",
    "            self.catch_probability = 0.05\n",
    "\n",
    "    \n",
    "    def procreate(self,all_agents,time):\n",
    "        child_list = []\n",
    "        val = random.random()\n",
    "        if (self.sex == 'F') and (np.mod(abs(time-self.last_litter_time),self.gestation) == 0):\n",
    "            for agent in all_agents:\n",
    "                if (agent.ptype==\"Prey\") and (agent.sex == \"M\") and (self.get_distance(agent) <= self.mate_range) and (val > (1.0/(1.0+np.exp(-len(all_agents)/self.saturation_pop)))):\n",
    "                    child_num = int(np.random.normal(7,1))\n",
    "                    for jj in range(child_num):\n",
    "                        mom_a = self.alle_d\n",
    "                        if np.random.randint(0,2) == 1:\n",
    "                            mom_a = self.alle_m\n",
    "                        dad_a = agent.alle_d\n",
    "                        if np.random.randint(0,2) == 1:\n",
    "                            dad_a = agent.alle_m               \n",
    "                        child = Mouse(sex=\"F\")\n",
    "                        if np.random.randint(0,2) == 1:\n",
    "                            child = Mouse(sex=\"M\")\n",
    "                        child.set_allele(dad_a,mom_a)\n",
    "                        child_list.append(child)\n",
    "                    self.last_litter_time = time\n",
    "                    break\n",
    "\n",
    "        return child_list"
   ]
  },
  {
   "cell_type": "markdown",
   "metadata": {},
   "source": [
    "### 2.2 (10 Points)\n",
    "\n",
    "Create a new `Hawk` child class, using the `Animal_Agent` as the parent class. The `Hawk` class will largely be the same as the `Animal_Agent` class except for one detail: **In the `hunt` method, incorporate the `catch_probability` of the predator, such that it is harder for a `Hawk` to catch a `Mouse` with a lower `catch_probability`.**"
   ]
  },
  {
   "cell_type": "code",
   "execution_count": 63,
   "metadata": {},
   "outputs": [],
   "source": [
    "#Write your code here\n",
    "class Hawk(Animal_Agent):\n",
    "    \n",
    "    def __init__(self,ptype=\"Predator\",shape=\"p\",color=\"red\"):\n",
    "         super().__init__(xmax=100,ymax=100,ptype=ptype,sex=\"M\",age_limit=50,catch_radius=10,mate_range=5,gestation=8,shape=shape,color=color,saturation_pop=150)\n",
    "    \n",
    "    def hunt(self,all_agents):\n",
    "        for agent in all_agents:\n",
    "            if (agent.ptype == \"Prey\") and (agent.age < agent.age_limit) and not (agent.is_caught):\n",
    "                if (self.get_distance(agent) < self.catch_radius) and (random.random() < agent.catch_probability):\n",
    "                    agent.is_caught = True\n",
    "                    return agent       \n",
    "        return False \n"
   ]
  },
  {
   "cell_type": "markdown",
   "metadata": {},
   "source": [
    "### 2.3 (5 Points)\n",
    "\n",
    "**Repeat problem 1.5, replacing the generic prey with the `Mice` animals, and the generic predators with the `Hawk` animals.**"
   ]
  },
  {
   "cell_type": "code",
   "execution_count": 89,
   "metadata": {},
   "outputs": [],
   "source": [
    "import random\n",
    "yard = Environment()\n",
    "jo = Mouse(sex = \"F\")\n",
    "jo.set_allele(random.randint(0,1),random.randint(0,1))\n",
    "john = Mouse()\n",
    "john.set_allele(random.randint(0,1),random.randint(0,1))\n",
    "karl = Mouse(sex = \"F\")\n",
    "karl.set_allele(0,0)\n",
    "martin = Mouse()\n",
    "martin.set_allele(random.randint(0,1),random.randint(0,1))\n",
    "pat = Mouse(sex = \"F\")\n",
    "pat.set_allele(random.randint(0,1),random.randint(0,1))\n",
    "george = Mouse()\n",
    "george.set_allele(random.randint(0,1),random.randint(0,1))\n",
    "tot = Mouse(sex = \"F\")\n",
    "tot.set_allele(random.randint(0,1),random.randint(0,1))\n",
    "lot = Mouse()\n",
    "lot.set_allele(random.randint(0,1),random.randint(0,1))\n",
    "patty = Mouse(sex = \"F\")\n",
    "patty.set_allele(random.randint(0,1),random.randint(0,1))\n",
    "georgie = Mouse()\n",
    "georgie.set_allele(random.randint(0,1),random.randint(0,1))\n",
    "tots = Mouse(sex = \"F\")\n",
    "tots.set_allele(random.randint(0,1),random.randint(0,1))\n",
    "lots = Mouse()\n",
    "lots.set_allele(random.randint(0,1),random.randint(0,1))\n",
    "pa = Mouse(sex = \"F\")\n",
    "pa.set_allele(random.randint(0,1),random.randint(0,1))\n",
    "geo = Mouse()\n",
    "geo.set_allele(random.randint(0,1),random.randint(0,1))\n",
    "to = Mouse(sex = \"F\")\n",
    "to.set_allele(random.randint(0,1),random.randint(0,1))\n",
    "lo = Mouse()\n",
    "lo.set_allele(random.randint(0,1),random.randint(0,1))\n",
    "paz = Mouse(sex = \"F\")\n",
    "paz.set_allele(random.randint(0,1),random.randint(0,1))\n",
    "geoz = Mouse()\n",
    "geoz.set_allele(random.randint(0,1),random.randint(0,1))\n",
    "toz = Mouse(sex = \"F\")\n",
    "toz.set_allele(random.randint(0,1),random.randint(0,1))\n",
    "loz = Mouse()\n",
    "loz.set_allele(random.randint(0,1),random.randint(0,1))\n",
    "\n",
    "\n",
    "yard.add_agent(jo)\n",
    "yard.add_agent(john)\n",
    "yard.add_agent(karl)\n",
    "yard.add_agent(martin)\n",
    "yard.add_agent(pat)\n",
    "yard.add_agent(george)\n",
    "yard.add_agent(tot)\n",
    "yard.add_agent(lot)\n",
    "yard.add_agent(patty)\n",
    "yard.add_agent(georgie)\n",
    "yard.add_agent(tots)\n",
    "yard.add_agent(lots)\n",
    "yard.add_agent(pa)\n",
    "yard.add_agent(geo)\n",
    "yard.add_agent(to)\n",
    "yard.add_agent(lo)\n",
    "yard.add_agent(paz)\n",
    "yard.add_agent(geoz)\n",
    "yard.add_agent(toz)\n",
    "yard.add_agent(loz)\n",
    "\n",
    "\n",
    "fred = Hawk()\n",
    "freddie = Hawk()\n",
    "\n",
    "\n",
    "yard.add_agent(fred)\n",
    "yard.add_agent(freddie)"
   ]
  },
  {
   "cell_type": "code",
   "execution_count": 90,
   "metadata": {},
   "outputs": [
    {
     "data": {
      "image/png": "[encoded data removed]",
      "text/plain": [
       "<Figure size 432x432 with 1 Axes>"
      ]
     },
     "metadata": {
      "needs_background": "light"
     },
     "output_type": "display_data"
    },
    {
     "data": {
      "image/png": "[encoded data removed]",
      "text/plain": [
       "<Figure size 432x288 with 1 Axes>"
      ]
     },
     "metadata": {
      "needs_background": "light"
     },
     "output_type": "display_data"
    }
   ],
   "source": [
    "yard.simulate(10)\n",
    "yard.simulate_plot_populations(60)"
   ]
  },
  {
   "cell_type": "markdown",
   "metadata": {},
   "source": [
    "### 2.4 (5 Points)\n",
    "\n",
    "**Describe the differences between your results using the `Hawk` and `Mouse` class and the results from part 1.5. If and how does this model capture the effects of natural selection?**"
   ]
  },
  {
   "cell_type": "markdown",
   "metadata": {},
   "source": [
    "*It is similar to 1.5, however now that catch probability is taken into account. It appears that the dark mice are able to stick around for longer than in the first model since they are harder to catch. However they still are less likely to be produced, so their are less of them in the population. However I think we can see more of the effects of natural selection come to light since the dark mice have adapted more and are less likely to be caught. Which can be seen when they are lasting just as long if not longer as the light mice who have a larger population.*"
   ]
  },
  {
   "cell_type": "markdown",
   "metadata": {},
   "source": [
    "---\n",
    "### &#128721; STOP\n",
    "**Pause to commit your changes and push to your Git repository!**\n",
    "\n",
    "## Git push, and then merge your `hw03_branch` into your `main` branch."
   ]
  },
  {
   "cell_type": "markdown",
   "metadata": {},
   "source": []
  }
 ],
 "metadata": {
  "kernelspec": {
   "display_name": "Python 3",
   "language": "python",
   "name": "python3"
  },
  "language_info": {
   "codemirror_mode": {
    "name": "ipython",
    "version": 3
   },
   "file_extension": ".py",
   "mimetype": "text/x-python",
   "name": "python",
   "nbconvert_exporter": "python",
   "pygments_lexer": "ipython3",
   "version": "3.8.8"
  }
 },
 "nbformat": 4,
 "nbformat_minor": 2
}
